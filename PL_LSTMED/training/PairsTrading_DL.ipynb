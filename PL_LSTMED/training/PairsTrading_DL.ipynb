{
 "cells": [
  {
   "cell_type": "code",
   "execution_count": 1,
   "metadata": {
    "colab": {
     "base_uri": "https://localhost:8080/",
     "height": 34
    },
    "colab_type": "code",
    "executionInfo": {
     "elapsed": 4098,
     "status": "ok",
     "timestamp": 1567675837287,
     "user": {
      "displayName": "Simao Sarmento",
      "photoUrl": "https://lh3.googleusercontent.com/a-/AAuE7mBWip6a0UyBh_1Dd-LrfHuFavFBPDAae6wiUEky=s64",
      "userId": "16654987200280043400"
     },
     "user_tz": -60
    },
    "id": "EBl2Ok7tbGHC",
    "outputId": "c4fbb45a-3fc9-4f6d-95b3-d341445f23b8"
   },
   "outputs": [
    {
     "name": "stderr",
     "output_type": "stream",
     "text": [
      "C:\\Users\\llx\\Anaconda3\\envs\\tf_1x\\lib\\site-packages\\tensorflow\\python\\framework\\dtypes.py:523: FutureWarning: Passing (type, 1) or '1type' as a synonym of type is deprecated; in a future version of numpy, it will be understood as (type, (1,)) / '(1,)type'.\n",
      "  _np_qint8 = np.dtype([(\"qint8\", np.int8, 1)])\n",
      "C:\\Users\\llx\\Anaconda3\\envs\\tf_1x\\lib\\site-packages\\tensorflow\\python\\framework\\dtypes.py:524: FutureWarning: Passing (type, 1) or '1type' as a synonym of type is deprecated; in a future version of numpy, it will be understood as (type, (1,)) / '(1,)type'.\n",
      "  _np_quint8 = np.dtype([(\"quint8\", np.uint8, 1)])\n",
      "C:\\Users\\llx\\Anaconda3\\envs\\tf_1x\\lib\\site-packages\\tensorflow\\python\\framework\\dtypes.py:525: FutureWarning: Passing (type, 1) or '1type' as a synonym of type is deprecated; in a future version of numpy, it will be understood as (type, (1,)) / '(1,)type'.\n",
      "  _np_qint16 = np.dtype([(\"qint16\", np.int16, 1)])\n",
      "C:\\Users\\llx\\Anaconda3\\envs\\tf_1x\\lib\\site-packages\\tensorflow\\python\\framework\\dtypes.py:526: FutureWarning: Passing (type, 1) or '1type' as a synonym of type is deprecated; in a future version of numpy, it will be understood as (type, (1,)) / '(1,)type'.\n",
      "  _np_quint16 = np.dtype([(\"quint16\", np.uint16, 1)])\n",
      "C:\\Users\\llx\\Anaconda3\\envs\\tf_1x\\lib\\site-packages\\tensorflow\\python\\framework\\dtypes.py:527: FutureWarning: Passing (type, 1) or '1type' as a synonym of type is deprecated; in a future version of numpy, it will be understood as (type, (1,)) / '(1,)type'.\n",
      "  _np_qint32 = np.dtype([(\"qint32\", np.int32, 1)])\n",
      "C:\\Users\\llx\\Anaconda3\\envs\\tf_1x\\lib\\site-packages\\tensorflow\\python\\framework\\dtypes.py:532: FutureWarning: Passing (type, 1) or '1type' as a synonym of type is deprecated; in a future version of numpy, it will be understood as (type, (1,)) / '(1,)type'.\n",
      "  np_resource = np.dtype([(\"resource\", np.ubyte, 1)])\n"
     ]
    },
    {
     "data": {
      "text/plain": [
       "''"
      ]
     },
     "execution_count": 1,
     "metadata": {},
     "output_type": "execute_result"
    }
   ],
   "source": [
    "import tensorflow as tf\n",
    "tf.test.gpu_device_name()"
   ]
  },
  {
   "cell_type": "markdown",
   "metadata": {
    "colab_type": "text",
    "id": "MPzxbLTnNQet"
   },
   "source": [
    "**Instalation**\n",
    "\n",
    "Must run every time the notebook is closed."
   ]
  },
  {
   "cell_type": "code",
   "execution_count": 2,
   "metadata": {
    "colab": {
     "base_uri": "https://localhost:8080/",
     "height": 136
    },
    "colab_type": "code",
    "executionInfo": {
     "elapsed": 118030,
     "status": "ok",
     "timestamp": 1567675959397,
     "user": {
      "displayName": "Simao Sarmento",
      "photoUrl": "https://lh3.googleusercontent.com/a-/AAuE7mBWip6a0UyBh_1Dd-LrfHuFavFBPDAae6wiUEky=s64",
      "userId": "16654987200280043400"
     },
     "user_tz": -60
    },
    "id": "PARahqujMTrP",
    "outputId": "d3989cdb-a455-43e4-85e8-6f6cec5ae2b5"
   },
   "outputs": [
    {
     "name": "stderr",
     "output_type": "stream",
     "text": [
      "'apt-get' is not recognized as an internal or external command,\n",
      "operable program or batch file.\n",
      "The system cannot find the path specified.\n",
      "The system cannot find the path specified.\n",
      "'apt-get' is not recognized as an internal or external command,\n",
      "operable program or batch file.\n"
     ]
    }
   ],
   "source": [
    "# Install a Drive FUSE wrapper.\n",
    " # https://github.com/astrada/google-drive-ocamlfuse\n",
    "\n",
    "!apt-get install -y -qq software-properties-common python-software-properties module-init-tools\n",
    "!add-apt-repository -y ppa:alessandro-strada/ppa 2>&1 > /dev/null \n",
    "!apt-get update -qq 2>&1 > /dev/null\n",
    "!apt-get -y install -qq google-drive-ocamlfuse fuse"
   ]
  },
  {
   "cell_type": "code",
   "execution_count": 3,
   "metadata": {
    "colab": {},
    "colab_type": "code",
    "id": "IuppVB4mMcyH"
   },
   "outputs": [
    {
     "ename": "ModuleNotFoundError",
     "evalue": "No module named 'google.colab'",
     "output_type": "error",
     "traceback": [
      "\u001b[1;31m---------------------------------------------------------------------------\u001b[0m",
      "\u001b[1;31mModuleNotFoundError\u001b[0m                       Traceback (most recent call last)",
      "\u001b[1;32m<ipython-input-3-da0b41b94bc2>\u001b[0m in \u001b[0;36m<module>\u001b[1;34m\u001b[0m\n\u001b[0;32m      1\u001b[0m \u001b[1;31m# Generate auth tokens for Colab\u001b[0m\u001b[1;33m\u001b[0m\u001b[1;33m\u001b[0m\u001b[1;33m\u001b[0m\u001b[0m\n\u001b[0;32m      2\u001b[0m \u001b[1;33m\u001b[0m\u001b[0m\n\u001b[1;32m----> 3\u001b[1;33m \u001b[1;32mfrom\u001b[0m \u001b[0mgoogle\u001b[0m\u001b[1;33m.\u001b[0m\u001b[0mcolab\u001b[0m \u001b[1;32mimport\u001b[0m \u001b[0mauth\u001b[0m\u001b[1;33m\u001b[0m\u001b[1;33m\u001b[0m\u001b[0m\n\u001b[0m\u001b[0;32m      4\u001b[0m \u001b[0mauth\u001b[0m\u001b[1;33m.\u001b[0m\u001b[0mauthenticate_user\u001b[0m\u001b[1;33m(\u001b[0m\u001b[1;33m)\u001b[0m\u001b[1;33m\u001b[0m\u001b[1;33m\u001b[0m\u001b[0m\n",
      "\u001b[1;31mModuleNotFoundError\u001b[0m: No module named 'google.colab'"
     ]
    }
   ],
   "source": [
    "# Generate auth tokens for Colab\n",
    "\n",
    "from google.colab import auth \n",
    "auth.authenticate_user()"
   ]
  },
  {
   "cell_type": "code",
   "execution_count": 4,
   "metadata": {
    "colab": {
     "base_uri": "https://localhost:8080/",
     "height": 105
    },
    "colab_type": "code",
    "executionInfo": {
     "elapsed": 24171,
     "status": "ok",
     "timestamp": 1567676010997,
     "user": {
      "displayName": "Simao Sarmento",
      "photoUrl": "https://lh3.googleusercontent.com/a-/AAuE7mBWip6a0UyBh_1Dd-LrfHuFavFBPDAae6wiUEky=s64",
      "userId": "16654987200280043400"
     },
     "user_tz": -60
    },
    "id": "H1DhebmJMr3O",
    "outputId": "85c60d31-b24b-4717-9383-d7aab5955f4b"
   },
   "outputs": [
    {
     "name": "stdout",
     "output_type": "stream",
     "text": [
      "Please, open the following URL in a web browser: https://accounts.google.com/o/oauth2/auth?client_id=32555940559.apps.googleusercontent.com&redirect_uri=urn%3Aietf%3Awg%3Aoauth%3A2.0%3Aoob&scope=https%3A%2F%2Fwww.googleapis.com%2Fauth%2Fdrive&response_type=code&access_type=offline&approval_prompt=force\n",
      "··········\n",
      "Please, open the following URL in a web browser: https://accounts.google.com/o/oauth2/auth?client_id=32555940559.apps.googleusercontent.com&redirect_uri=urn%3Aietf%3Awg%3Aoauth%3A2.0%3Aoob&scope=https%3A%2F%2Fwww.googleapis.com%2Fauth%2Fdrive&response_type=code&access_type=offline&approval_prompt=force\n",
      "Please enter the verification code: Access token retrieved correctly.\n"
     ]
    }
   ],
   "source": [
    "# Generate creds for the Drive FUSE library.\n",
    "\n",
    "from oauth2client.client import GoogleCredentials \n",
    "creds = GoogleCredentials.get_application_default()\n",
    "import getpass \n",
    "!google-drive-ocamlfuse -headless -id={creds.client_id} -secret={creds.client_secret} < /dev/null 2>&1 | grep URL\n",
    "vcode = getpass.getpass() \n",
    "!echo {vcode} | google-drive-ocamlfuse -headless -id={creds.client_id} -secret={creds.client_secret}"
   ]
  },
  {
   "cell_type": "code",
   "execution_count": null,
   "metadata": {
    "colab": {},
    "colab_type": "code",
    "id": "mID6JP_yM24_"
   },
   "outputs": [],
   "source": [
    "# Create a directory and mount Google Drive using that directory.\n",
    "\n",
    "!mkdir -p drive\n",
    "!google-drive-ocamlfuse drive"
   ]
  },
  {
   "cell_type": "code",
   "execution_count": 6,
   "metadata": {
    "colab": {
     "base_uri": "https://localhost:8080/",
     "height": 119
    },
    "colab_type": "code",
    "executionInfo": {
     "elapsed": 2435,
     "status": "ok",
     "timestamp": 1567676034775,
     "user": {
      "displayName": "Simao Sarmento",
      "photoUrl": "https://lh3.googleusercontent.com/a-/AAuE7mBWip6a0UyBh_1Dd-LrfHuFavFBPDAae6wiUEky=s64",
      "userId": "16654987200280043400"
     },
     "user_tz": -60
    },
    "id": "7NwIXZ-bNGjg",
    "outputId": "1a90f65f-f5f4-4acf-e1dd-9f982772ca98"
   },
   "outputs": [
    {
     "name": "stdout",
     "output_type": "stream",
     "text": [
      "Files in Drive:\n",
      "2009-2019\t\t    encoder_decoder\t\t     __pycache__\n",
      "class_DataProcessor.py\t    encoder_decoder_trainer.py\t     rnn_models\n",
      "class_ForecastingTrader.py  mlp_models\t\t\t     rnn_trainer.py\n",
      "class_SeriesAnalyser.py     mlp_trainer.py\n",
      "class_Trader.py\t\t    PairsTrading_DeepLearning.ipynb\n"
     ]
    }
   ],
   "source": [
    "print ('Files in Drive:')\n",
    "!ls /content/drive/PairsTrading"
   ]
  },
  {
   "cell_type": "markdown",
   "metadata": {
    "colab_type": "text",
    "id": "Y7vdSjDhMm7G"
   },
   "source": []
  },
  {
   "cell_type": "markdown",
   "metadata": {
    "colab_type": "text",
    "id": "2qjrA9XTgww5"
   },
   "source": [
    "**Run Python File**\n",
    "\n",
    "Run the executable here"
   ]
  },
  {
   "cell_type": "code",
   "execution_count": 4,
   "metadata": {
    "colab": {
     "base_uri": "https://localhost:8080/",
     "height": 1000
    },
    "colab_type": "code",
    "executionInfo": {
     "elapsed": 96370,
     "status": "ok",
     "timestamp": 1567676538921,
     "user": {
      "displayName": "Simao Sarmento",
      "photoUrl": "https://lh3.googleusercontent.com/a-/AAuE7mBWip6a0UyBh_1Dd-LrfHuFavFBPDAae6wiUEky=s64",
      "userId": "16654987200280043400"
     },
     "user_tz": -60
    },
    "id": "BjZQKJaegvDl",
    "outputId": "55c317f9-55ab-4834-a69e-1d2e6608e063"
   },
   "outputs": [
    {
     "name": "stderr",
     "output_type": "stream",
     "text": [
      "Python was not found but can be installed from the Microsoft Store: https://go.microsoft.com/fwlink?linkID=2082640\n"
     ]
    }
   ],
   "source": [
    "#!python3 \"/content/drive/PairsTrading/rnn_trainer.py\"\n",
    "!python3 \"C:/Users/llx/Desktop/pair_trading/codes/PairsTrading-master/training/rnn_trainer.py\""
   ]
  },
  {
   "cell_type": "code",
   "execution_count": null,
   "metadata": {
    "colab": {},
    "colab_type": "code",
    "id": "6aIp-WltjwMh"
   },
   "outputs": [],
   "source": []
  }
 ],
 "metadata": {
  "accelerator": "GPU",
  "colab": {
   "collapsed_sections": [],
   "name": "PairsTrading_DeepLearning.ipynb",
   "provenance": [],
   "version": "0.3.2"
  },
  "kernelspec": {
   "display_name": "Python [conda env:tf_1x]",
   "language": "python",
   "name": "conda-env-tf_1x-py"
  },
  "language_info": {
   "codemirror_mode": {
    "name": "ipython",
    "version": 3
   },
   "file_extension": ".py",
   "mimetype": "text/x-python",
   "name": "python",
   "nbconvert_exporter": "python",
   "pygments_lexer": "ipython3",
   "version": "3.7.4"
  }
 },
 "nbformat": 4,
 "nbformat_minor": 4
}
